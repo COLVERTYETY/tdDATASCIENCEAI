{
 "cells": [
  {
   "cell_type": "code",
   "execution_count": 159,
   "metadata": {},
   "outputs": [],
   "source": [
    "import numpy as np\n",
    "import random\n",
    "from matplotlib import pyplot as plt \n",
    "%matplotlib inline"
   ]
  },
  {
   "cell_type": "markdown",
   "metadata": {},
   "source": [
    "# read data"
   ]
  },
  {
   "cell_type": "code",
   "execution_count": 160,
   "metadata": {},
   "outputs": [
    {
     "name": "stdout",
     "output_type": "stream",
     "text": [
      "[(array([5.1, 3.5, 1.4, 0.2]), 'Iris-setosa\\n'), (array([4.9, 3. , 1.4, 0.2]), 'Iris-setosa\\n'), (array([4.7, 3.2, 1.3, 0.2]), 'Iris-setosa\\n'), (array([4.6, 3.1, 1.5, 0.2]), 'Iris-setosa\\n'), (array([5. , 3.6, 1.4, 0.2]), 'Iris-setosa\\n'), (array([5.4, 3.9, 1.7, 0.4]), 'Iris-setosa\\n'), (array([4.6, 3.4, 1.4, 0.3]), 'Iris-setosa\\n'), (array([5. , 3.4, 1.5, 0.2]), 'Iris-setosa\\n'), (array([4.4, 2.9, 1.4, 0.2]), 'Iris-setosa\\n'), (array([4.9, 3.1, 1.5, 0.1]), 'Iris-setosa\\n')]\n"
     ]
    }
   ],
   "source": [
    "dico = {\n",
    "    \"Iris-setosa\":0,\n",
    "    \"Iris-versicolor\":1,\n",
    "    \"Iris-virginica\":2,\n",
    "}\n",
    "laliste=[]\n",
    "with open(\"./IA3-ml_data_iris.txt\") as file:\n",
    "    for l in file.readlines():\n",
    "        k = l.split(\",\")\n",
    "        i=list(map(float,k[:-1]))\n",
    "        if len(i)>0:\n",
    "            laliste.append((np.array(i),k[-1]))\n",
    "print(laliste[:10])\n"
   ]
  },
  {
   "cell_type": "markdown",
   "metadata": {},
   "source": [
    "# the K neighbour function"
   ]
  },
  {
   "cell_type": "code",
   "execution_count": 161,
   "metadata": {},
   "outputs": [],
   "source": [
    "def distance(A, B)->int:\n",
    "    return np.linalg.norm(A-B)\n",
    "\n",
    "def kneighbour(A, others, K):\n",
    "    dist = []\n",
    "    for B in others:\n",
    "        d = distance(A[0],B[0])\n",
    "        dist.append(d)\n",
    "    indx = np.argsort(dist)\n",
    "    # indx = indx[::-1]\n",
    "    sorte = [others[i] for i in indx]\n",
    "    return sorte[:K]\n",
    "\n",
    "def errorrate(A, others):\n",
    "    c = 0\n",
    "    for k in others:\n",
    "        c+=(k[1] != A[1])\n",
    "    return c/len(others)\n",
    "\n",
    "def mostcommon(others):\n",
    "    dico={}\n",
    "    for k in others:\n",
    "        if k[1] in dico.keys():\n",
    "            dico[k[1]]+=1\n",
    "        else:\n",
    "            dico[k[1]]=1\n",
    "    for k in dico.keys():\n",
    "        dico[k] = dico[k]/len(others)\n",
    "    return dico"
   ]
  },
  {
   "cell_type": "markdown",
   "metadata": {},
   "source": [
    "# test"
   ]
  },
  {
   "cell_type": "code",
   "execution_count": 162,
   "metadata": {},
   "outputs": [
    {
     "name": "stdout",
     "output_type": "stream",
     "text": [
      "indiv is: Iris-virginica\n",
      "\n",
      "k: 0 res: {}\n",
      "k: 1 res: {'Iris-virginica\\n': 1.0}\n",
      "k: 2 res: {'Iris-virginica\\n': 1.0}\n",
      "k: 3 res: {'Iris-virginica\\n': 1.0}\n",
      "k: 4 res: {'Iris-virginica\\n': 1.0}\n",
      "k: 5 res: {'Iris-virginica\\n': 1.0}\n",
      "k: 6 res: {'Iris-virginica\\n': 0.8333333333333334, 'Iris-versicolor\\n': 0.16666666666666666}\n",
      "k: 7 res: {'Iris-virginica\\n': 0.8571428571428571, 'Iris-versicolor\\n': 0.14285714285714285}\n",
      "k: 8 res: {'Iris-virginica\\n': 0.75, 'Iris-versicolor\\n': 0.25}\n",
      "k: 9 res: {'Iris-virginica\\n': 0.6666666666666666, 'Iris-versicolor\\n': 0.3333333333333333}\n",
      "k: 10 res: {'Iris-virginica\\n': 0.7, 'Iris-versicolor\\n': 0.3}\n",
      "k: 11 res: {'Iris-virginica\\n': 0.6363636363636364, 'Iris-versicolor\\n': 0.36363636363636365}\n",
      "k: 12 res: {'Iris-virginica\\n': 0.5833333333333334, 'Iris-versicolor\\n': 0.4166666666666667}\n",
      "k: 13 res: {'Iris-virginica\\n': 0.5384615384615384, 'Iris-versicolor\\n': 0.46153846153846156}\n",
      "k: 14 res: {'Iris-virginica\\n': 0.5, 'Iris-versicolor\\n': 0.5}\n",
      "k: 15 res: {'Iris-virginica\\n': 0.5333333333333333, 'Iris-versicolor\\n': 0.4666666666666667}\n",
      "k: 16 res: {'Iris-virginica\\n': 0.5625, 'Iris-versicolor\\n': 0.4375}\n",
      "k: 17 res: {'Iris-virginica\\n': 0.5294117647058824, 'Iris-versicolor\\n': 0.47058823529411764}\n",
      "k: 18 res: {'Iris-virginica\\n': 0.5555555555555556, 'Iris-versicolor\\n': 0.4444444444444444}\n",
      "k: 19 res: {'Iris-virginica\\n': 0.5789473684210527, 'Iris-versicolor\\n': 0.42105263157894735}\n",
      "k: 20 res: {'Iris-virginica\\n': 0.55, 'Iris-versicolor\\n': 0.45}\n",
      "k: 21 res: {'Iris-virginica\\n': 0.5714285714285714, 'Iris-versicolor\\n': 0.42857142857142855}\n",
      "k: 22 res: {'Iris-virginica\\n': 0.5454545454545454, 'Iris-versicolor\\n': 0.45454545454545453}\n",
      "k: 23 res: {'Iris-virginica\\n': 0.5217391304347826, 'Iris-versicolor\\n': 0.4782608695652174}\n",
      "k: 24 res: {'Iris-virginica\\n': 0.5416666666666666, 'Iris-versicolor\\n': 0.4583333333333333}\n",
      "k: 25 res: {'Iris-virginica\\n': 0.56, 'Iris-versicolor\\n': 0.44}\n",
      "k: 26 res: {'Iris-virginica\\n': 0.5384615384615384, 'Iris-versicolor\\n': 0.46153846153846156}\n",
      "k: 27 res: {'Iris-virginica\\n': 0.5185185185185185, 'Iris-versicolor\\n': 0.48148148148148145}\n",
      "k: 28 res: {'Iris-virginica\\n': 0.5, 'Iris-versicolor\\n': 0.5}\n",
      "k: 29 res: {'Iris-virginica\\n': 0.4827586206896552, 'Iris-versicolor\\n': 0.5172413793103449}\n",
      "k: 30 res: {'Iris-virginica\\n': 0.4666666666666667, 'Iris-versicolor\\n': 0.5333333333333333}\n",
      "k: 31 res: {'Iris-virginica\\n': 0.4838709677419355, 'Iris-versicolor\\n': 0.5161290322580645}\n",
      "k: 32 res: {'Iris-virginica\\n': 0.46875, 'Iris-versicolor\\n': 0.53125}\n",
      "k: 33 res: {'Iris-virginica\\n': 0.45454545454545453, 'Iris-versicolor\\n': 0.5454545454545454}\n",
      "k: 34 res: {'Iris-virginica\\n': 0.4411764705882353, 'Iris-versicolor\\n': 0.5588235294117647}\n",
      "k: 35 res: {'Iris-virginica\\n': 0.42857142857142855, 'Iris-versicolor\\n': 0.5714285714285714}\n",
      "k: 36 res: {'Iris-virginica\\n': 0.4166666666666667, 'Iris-versicolor\\n': 0.5833333333333334}\n",
      "k: 37 res: {'Iris-virginica\\n': 0.40540540540540543, 'Iris-versicolor\\n': 0.5945945945945946}\n",
      "k: 38 res: {'Iris-virginica\\n': 0.42105263157894735, 'Iris-versicolor\\n': 0.5789473684210527}\n",
      "k: 39 res: {'Iris-virginica\\n': 0.4358974358974359, 'Iris-versicolor\\n': 0.5641025641025641}\n",
      "k: 40 res: {'Iris-virginica\\n': 0.45, 'Iris-versicolor\\n': 0.55}\n",
      "k: 41 res: {'Iris-virginica\\n': 0.4634146341463415, 'Iris-versicolor\\n': 0.5365853658536586}\n",
      "k: 42 res: {'Iris-virginica\\n': 0.4523809523809524, 'Iris-versicolor\\n': 0.5476190476190477}\n",
      "k: 43 res: {'Iris-virginica\\n': 0.4418604651162791, 'Iris-versicolor\\n': 0.5581395348837209}\n",
      "k: 44 res: {'Iris-virginica\\n': 0.4318181818181818, 'Iris-versicolor\\n': 0.5681818181818182}\n",
      "k: 45 res: {'Iris-virginica\\n': 0.4444444444444444, 'Iris-versicolor\\n': 0.5555555555555556}\n",
      "k: 46 res: {'Iris-virginica\\n': 0.45652173913043476, 'Iris-versicolor\\n': 0.5434782608695652}\n",
      "k: 47 res: {'Iris-virginica\\n': 0.46808510638297873, 'Iris-versicolor\\n': 0.5319148936170213}\n",
      "k: 48 res: {'Iris-virginica\\n': 0.4791666666666667, 'Iris-versicolor\\n': 0.5208333333333334}\n",
      "k: 49 res: {'Iris-virginica\\n': 0.4897959183673469, 'Iris-versicolor\\n': 0.5102040816326531}\n",
      "k: 50 res: {'Iris-virginica\\n': 0.48, 'Iris-versicolor\\n': 0.52}\n",
      "k: 51 res: {'Iris-virginica\\n': 0.47058823529411764, 'Iris-versicolor\\n': 0.5294117647058824}\n",
      "k: 52 res: {'Iris-virginica\\n': 0.46153846153846156, 'Iris-versicolor\\n': 0.5384615384615384}\n",
      "k: 53 res: {'Iris-virginica\\n': 0.4716981132075472, 'Iris-versicolor\\n': 0.5283018867924528}\n",
      "k: 54 res: {'Iris-virginica\\n': 0.46296296296296297, 'Iris-versicolor\\n': 0.5370370370370371}\n",
      "k: 55 res: {'Iris-virginica\\n': 0.4727272727272727, 'Iris-versicolor\\n': 0.5272727272727272}\n",
      "k: 56 res: {'Iris-virginica\\n': 0.48214285714285715, 'Iris-versicolor\\n': 0.5178571428571429}\n",
      "k: 57 res: {'Iris-virginica\\n': 0.47368421052631576, 'Iris-versicolor\\n': 0.5263157894736842}\n",
      "k: 58 res: {'Iris-virginica\\n': 0.46551724137931033, 'Iris-versicolor\\n': 0.5344827586206896}\n",
      "k: 59 res: {'Iris-virginica\\n': 0.4576271186440678, 'Iris-versicolor\\n': 0.5423728813559322}\n",
      "k: 60 res: {'Iris-virginica\\n': 0.4666666666666667, 'Iris-versicolor\\n': 0.5333333333333333}\n",
      "k: 61 res: {'Iris-virginica\\n': 0.45901639344262296, 'Iris-versicolor\\n': 0.5409836065573771}\n",
      "k: 62 res: {'Iris-virginica\\n': 0.45161290322580644, 'Iris-versicolor\\n': 0.5483870967741935}\n",
      "k: 63 res: {'Iris-virginica\\n': 0.4444444444444444, 'Iris-versicolor\\n': 0.5555555555555556}\n",
      "k: 64 res: {'Iris-virginica\\n': 0.453125, 'Iris-versicolor\\n': 0.546875}\n",
      "k: 65 res: {'Iris-virginica\\n': 0.4461538461538462, 'Iris-versicolor\\n': 0.5538461538461539}\n",
      "k: 66 res: {'Iris-virginica\\n': 0.45454545454545453, 'Iris-versicolor\\n': 0.5454545454545454}\n",
      "k: 67 res: {'Iris-virginica\\n': 0.4626865671641791, 'Iris-versicolor\\n': 0.5373134328358209}\n",
      "k: 68 res: {'Iris-virginica\\n': 0.45588235294117646, 'Iris-versicolor\\n': 0.5441176470588235}\n",
      "k: 69 res: {'Iris-virginica\\n': 0.463768115942029, 'Iris-versicolor\\n': 0.5362318840579711}\n",
      "k: 70 res: {'Iris-virginica\\n': 0.4714285714285714, 'Iris-versicolor\\n': 0.5285714285714286}\n",
      "k: 71 res: {'Iris-virginica\\n': 0.4647887323943662, 'Iris-versicolor\\n': 0.5352112676056338}\n",
      "k: 72 res: {'Iris-virginica\\n': 0.4583333333333333, 'Iris-versicolor\\n': 0.5416666666666666}\n",
      "k: 73 res: {'Iris-virginica\\n': 0.4520547945205479, 'Iris-versicolor\\n': 0.547945205479452}\n",
      "k: 74 res: {'Iris-virginica\\n': 0.4594594594594595, 'Iris-versicolor\\n': 0.5405405405405406}\n",
      "k: 75 res: {'Iris-virginica\\n': 0.4533333333333333, 'Iris-versicolor\\n': 0.5466666666666666}\n",
      "k: 76 res: {'Iris-virginica\\n': 0.4605263157894737, 'Iris-versicolor\\n': 0.5394736842105263}\n",
      "k: 77 res: {'Iris-virginica\\n': 0.4675324675324675, 'Iris-versicolor\\n': 0.5324675324675324}\n",
      "k: 78 res: {'Iris-virginica\\n': 0.46153846153846156, 'Iris-versicolor\\n': 0.5384615384615384}\n",
      "k: 79 res: {'Iris-virginica\\n': 0.46835443037974683, 'Iris-versicolor\\n': 0.5316455696202531}\n",
      "k: 80 res: {'Iris-virginica\\n': 0.4625, 'Iris-versicolor\\n': 0.5375}\n",
      "k: 81 res: {'Iris-virginica\\n': 0.4691358024691358, 'Iris-versicolor\\n': 0.5308641975308642}\n",
      "k: 82 res: {'Iris-virginica\\n': 0.4634146341463415, 'Iris-versicolor\\n': 0.5365853658536586}\n",
      "k: 83 res: {'Iris-virginica\\n': 0.46987951807228917, 'Iris-versicolor\\n': 0.5301204819277109}\n",
      "k: 84 res: {'Iris-virginica\\n': 0.47619047619047616, 'Iris-versicolor\\n': 0.5238095238095238}\n",
      "k: 85 res: {'Iris-virginica\\n': 0.47058823529411764, 'Iris-versicolor\\n': 0.5294117647058824}\n",
      "k: 86 res: {'Iris-virginica\\n': 0.47674418604651164, 'Iris-versicolor\\n': 0.5232558139534884}\n",
      "k: 87 res: {'Iris-virginica\\n': 0.47126436781609193, 'Iris-versicolor\\n': 0.5287356321839081}\n",
      "k: 88 res: {'Iris-virginica\\n': 0.4772727272727273, 'Iris-versicolor\\n': 0.5227272727272727}\n",
      "k: 89 res: {'Iris-virginica\\n': 0.48314606741573035, 'Iris-versicolor\\n': 0.5168539325842697}\n",
      "k: 90 res: {'Iris-virginica\\n': 0.4888888888888889, 'Iris-versicolor\\n': 0.5111111111111111}\n",
      "k: 91 res: {'Iris-virginica\\n': 0.4945054945054945, 'Iris-versicolor\\n': 0.5054945054945055}\n",
      "k: 92 res: {'Iris-virginica\\n': 0.4891304347826087, 'Iris-versicolor\\n': 0.5108695652173914}\n",
      "k: 93 res: {'Iris-virginica\\n': 0.4838709677419355, 'Iris-versicolor\\n': 0.5161290322580645}\n",
      "k: 94 res: {'Iris-virginica\\n': 0.4787234042553192, 'Iris-versicolor\\n': 0.5212765957446809}\n",
      "k: 95 res: {'Iris-virginica\\n': 0.47368421052631576, 'Iris-versicolor\\n': 0.5263157894736842}\n",
      "k: 96 res: {'Iris-virginica\\n': 0.4791666666666667, 'Iris-versicolor\\n': 0.5208333333333334}\n",
      "k: 97 res: {'Iris-virginica\\n': 0.4845360824742268, 'Iris-versicolor\\n': 0.5154639175257731}\n",
      "k: 98 res: {'Iris-virginica\\n': 0.4897959183673469, 'Iris-versicolor\\n': 0.5102040816326531}\n",
      "k: 99 res: {'Iris-virginica\\n': 0.494949494949495, 'Iris-versicolor\\n': 0.5050505050505051}\n"
     ]
    }
   ],
   "source": [
    "indiv = random.choice(laliste)\n",
    "\n",
    "print(\"indiv is:\", indiv[1])\n",
    "# for r in res:\n",
    "#     print(r[1][:-1], indiv[1]==r[1], sep=\" \")\n",
    "for k in range(100):\n",
    "    res = kneighbour(indiv, laliste, k)\n",
    "    # print(errorrate(indiv,res))\n",
    "    print(\"k:\",k,\"res:\",mostcommon(res))"
   ]
  }
 ],
 "metadata": {
  "interpreter": {
   "hash": "767d51c1340bd893661ea55ea3124f6de3c7a262a8b4abca0554b478b1e2ff90"
  },
  "kernelspec": {
   "display_name": "Python 3.10.2 64-bit",
   "language": "python",
   "name": "python3"
  },
  "language_info": {
   "codemirror_mode": {
    "name": "ipython",
    "version": 3
   },
   "file_extension": ".py",
   "mimetype": "text/x-python",
   "name": "python",
   "nbconvert_exporter": "python",
   "pygments_lexer": "ipython3",
   "version": "3.10.2"
  },
  "orig_nbformat": 4
 },
 "nbformat": 4,
 "nbformat_minor": 2
}
